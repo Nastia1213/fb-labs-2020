{
 "cells": [
  {
   "cell_type": "code",
   "execution_count": 5,
   "metadata": {},
   "outputs": [],
   "source": [
    "import re\n",
    "from itertools import cycle"
   ]
  },
  {
   "cell_type": "code",
   "execution_count": 6,
   "metadata": {},
   "outputs": [],
   "source": [
    "with open('source_text.txt', 'rb') as f:\n",
    "    content = f.read().decode('cp1251').lower()"
   ]
  },
  {
   "cell_type": "code",
   "execution_count": 7,
   "metadata": {},
   "outputs": [],
   "source": [
    "filter = r'[^а-я]'"
   ]
  },
  {
   "cell_type": "code",
   "execution_count": 8,
   "metadata": {},
   "outputs": [],
   "source": [
    "content.replace('ё', 'е')\n",
    "content = re.sub(filter, '', content)"
   ]
  },
  {
   "cell_type": "code",
   "execution_count": 9,
   "metadata": {},
   "outputs": [],
   "source": [
    "r2 = 'ок'\n",
    "r3 = 'мир'\n",
    "r4 = 'труд'\n",
    "r5 = 'весна'\n",
    "r10 = 'возвышение'\n",
    "r11 = 'блинобидный'\n",
    "r12 = 'беспокойство'\n",
    "r13 = 'офтальмология'\n",
    "r14 = 'самовентиляция'\n",
    "r15 = 'каменноугольный'\n",
    "r16 = 'парадоксальность'\n",
    "r17 = 'штангенглубиномер'\n",
    "r18 = 'церковнославянский'\n",
    "r19 = 'желатинизировавшись'\n",
    "r20 = 'лжесвидетельствовать'"
   ]
  },
  {
   "cell_type": "code",
   "execution_count": 10,
   "metadata": {},
   "outputs": [],
   "source": [
    "russian_alphabet = 'абвгдежзийклмнопрстуфхцчшщъыьэюя'"
   ]
  },
  {
   "cell_type": "code",
   "execution_count": 11,
   "metadata": {},
   "outputs": [],
   "source": [
    "def vigenere_encode(alphabet, c, k):\n",
    "    c_index = alphabet.index(c)\n",
    "    k_index = alphabet.index(k)\n",
    "    e_index = (c_index + k_index) % len(alphabet)\n",
    "    return alphabet[e_index]\n",
    "\n",
    "def vigenere_decode(alphabet, e, k):\n",
    "    e_index = alphabet.index(e)\n",
    "    k_index = alphabet.index(k)\n",
    "    d_index = (e_index - k_index) % len(alphabet)\n",
    "    return alphabet[d_index]"
   ]
  },
  {
   "cell_type": "code",
   "execution_count": 12,
   "metadata": {},
   "outputs": [],
   "source": [
    "cipher_r2 = ''.join(vigenere_encode(russian_alphabet, c, k) for c, k in zip(content, cycle(r2)))\n",
    "cipher_r3 = ''.join(vigenere_encode(russian_alphabet, c, k) for c, k in zip(content, cycle(r3)))\n",
    "cipher_r4 = ''.join(vigenere_encode(russian_alphabet, c, k) for c, k in zip(content, cycle(r4)))\n",
    "cipher_r5 = ''.join(vigenere_encode(russian_alphabet, c, k) for c, k in zip(content, cycle(r5)))\n",
    "cipher_r10 = ''.join(vigenere_encode(russian_alphabet, c, k) for c, k in zip(content, cycle(r10)))\n",
    "cipher_r11 = ''.join(vigenere_encode(russian_alphabet, c, k) for c, k in zip(content, cycle(r11)))\n",
    "cipher_r12 = ''.join(vigenere_encode(russian_alphabet, c, k) for c, k in zip(content, cycle(r12)))\n",
    "cipher_r13 = ''.join(vigenere_encode(russian_alphabet, c, k) for c, k in zip(content, cycle(r13)))\n",
    "cipher_r14 = ''.join(vigenere_encode(russian_alphabet, c, k) for c, k in zip(content, cycle(r14)))\n",
    "cipher_r15 = ''.join(vigenere_encode(russian_alphabet, c, k) for c, k in zip(content, cycle(r15)))\n",
    "cipher_r16 = ''.join(vigenere_encode(russian_alphabet, c, k) for c, k in zip(content, cycle(r16)))\n",
    "cipher_r17 = ''.join(vigenere_encode(russian_alphabet, c, k) for c, k in zip(content, cycle(r17)))\n",
    "cipher_r18 = ''.join(vigenere_encode(russian_alphabet, c, k) for c, k in zip(content, cycle(r18)))\n",
    "cipher_r19 = ''.join(vigenere_encode(russian_alphabet, c, k) for c, k in zip(content, cycle(r19)))\n",
    "cipher_r20 = ''.join(vigenere_encode(russian_alphabet, c, k) for c, k in zip(content, cycle(r20)))"
   ]
  },
  {
   "cell_type": "code",
   "execution_count": 13,
   "metadata": {},
   "outputs": [],
   "source": [
    "def init_dict():\n",
    "    return { x : 0 for x in russian_alphabet }"
   ]
  },
  {
   "cell_type": "code",
   "execution_count": 14,
   "metadata": {},
   "outputs": [],
   "source": [
    "def count_occurances(source_text):\n",
    "    occurance_dict = init_dict()\n",
    "    for c in source_text:\n",
    "        occurance_dict[c] += 1\n",
    "    return occurance_dict"
   ]
  },
  {
   "cell_type": "code",
   "execution_count": 15,
   "metadata": {
    "scrolled": true
   },
   "outputs": [],
   "source": [
    "def get_corr_index(source_text):\n",
    "    # count char occurances in text\n",
    "    count_dict = count_occurances(source_text)\n",
    "    #get text length\n",
    "    text_len = len(source_text)\n",
    "    #count index\n",
    "    index = 0\n",
    "    for val in count_dict.values():\n",
    "        index += (val *(val - 1))\n",
    "    return index / (text_len * (text_len - 1))"
   ]
  },
  {
   "cell_type": "code",
   "execution_count": 16,
   "metadata": {},
   "outputs": [],
   "source": [
    "i_cl = get_corr_index(content)\n",
    "i_r2 = get_corr_index(cipher_r2)\n",
    "i_r3 = get_corr_index(cipher_r3)\n",
    "i_r4 = get_corr_index(cipher_r4)\n",
    "i_r5 = get_corr_index(cipher_r5)\n",
    "i_r10 = get_corr_index(cipher_r10)\n",
    "i_r11 = get_corr_index(cipher_r11)\n",
    "i_r12 = get_corr_index(cipher_r12)\n",
    "i_r13 = get_corr_index(cipher_r13)\n",
    "i_r14 = get_corr_index(cipher_r14)\n",
    "i_r15 = get_corr_index(cipher_r15)\n",
    "i_r16 = get_corr_index(cipher_r16)\n",
    "i_r17 = get_corr_index(cipher_r17)\n",
    "i_r18 = get_corr_index(cipher_r18)\n",
    "i_r19 = get_corr_index(cipher_r19)\n",
    "i_r20 = get_corr_index(cipher_r20)"
   ]
  },
  {
   "cell_type": "code",
   "execution_count": 17,
   "metadata": {
    "scrolled": true
   },
   "outputs": [
    {
     "name": "stdout",
     "output_type": "stream",
     "text": [
      "Cl index:  0.0547376\n",
      "R2 index:  0.0441491\n",
      "R3 index:  0.0394215\n",
      "R4 index:  0.0374094\n",
      "R5 index:  0.0351820\n",
      "R10 index: 0.0347216\n",
      "R11 index: 0.0345846\n",
      "R12 index: 0.0344640\n",
      "R13 index: 0.0336025\n",
      "R14 index: 0.0340471\n",
      "R15 index: 0.0342543\n",
      "R16 index: 0.0337507\n",
      "R17 index: 0.0333905\n",
      "R18 index: 0.0339184\n",
      "R19 index: 0.0334952\n",
      "R20 index: 0.0335730\n"
     ]
    }
   ],
   "source": [
    "print ('Cl index:  {:0.7f}'.format(i_cl))\n",
    "print ('R2 index:  {:0.7f}'.format(i_r2))\n",
    "print ('R3 index:  {:0.7f}'.format(i_r3))\n",
    "print ('R4 index:  {:0.7f}'.format(i_r4))\n",
    "print ('R5 index:  {:0.7f}'.format(i_r5))\n",
    "print ('R10 index: {:0.7f}'.format(i_r10))\n",
    "print ('R11 index: {:0.7f}'.format(i_r11))\n",
    "print ('R12 index: {:0.7f}'.format(i_r12))\n",
    "print ('R13 index: {:0.7f}'.format(i_r13))\n",
    "print ('R14 index: {:0.7f}'.format(i_r14))\n",
    "print ('R15 index: {:0.7f}'.format(i_r15))\n",
    "print ('R16 index: {:0.7f}'.format(i_r16))\n",
    "print ('R17 index: {:0.7f}'.format(i_r17))\n",
    "print ('R18 index: {:0.7f}'.format(i_r18))\n",
    "print ('R19 index: {:0.7f}'.format(i_r19))\n",
    "print ('R20 index: {:0.7f}'.format(i_r20))"
   ]
  },
  {
   "cell_type": "code",
   "execution_count": 20,
   "metadata": {},
   "outputs": [],
   "source": [
    "with open('var_14.txt', 'rb') as f:\n",
    "    ciphertext = f.read().decode('utf-8')"
   ]
  },
  {
   "cell_type": "code",
   "execution_count": 21,
   "metadata": {
    "scrolled": true
   },
   "outputs": [
    {
     "name": "stdout",
     "output_type": "stream",
     "text": [
      " 2 : 0.0330079\n",
      " 3 : 0.0329747\n",
      " 4 : 0.0330297\n",
      " 5 : 0.0328428\n",
      " 6 : 0.0329629\n",
      " 7 : 0.0331063\n",
      " 8 : 0.0329851\n",
      " 9 : 0.0329118\n",
      "10 : 0.0328605\n",
      "11 : 0.0328826\n",
      "12 : 0.0330385\n",
      "13 : 0.0329704\n",
      "14 : 0.0332003\n",
      "15 : 0.0329693\n",
      "16 : 0.0330560\n",
      "17 : 0.0327634\n",
      "18 : 0.0329407\n",
      "19 : 0.0547758\n",
      "20 : 0.0328883\n",
      "21 : 0.0330614\n",
      "22 : 0.0328877\n",
      "23 : 0.0328212\n",
      "24 : 0.0329711\n",
      "25 : 0.0329401\n",
      "26 : 0.0330523\n",
      "27 : 0.0325625\n",
      "28 : 0.0330646\n",
      "29 : 0.0330680\n",
      "30 : 0.0328211\n"
     ]
    }
   ],
   "source": [
    "#iterate over all possible key_length\n",
    "for key_len in range(2,31):\n",
    "    #init an empty list for text blocks for every character in key\n",
    "    text_blocks = list()\n",
    "    \n",
    "    #fill this list\n",
    "    for offset in range(0, key_len):\n",
    "        #slice text with period of key length and offset of a key char\n",
    "        text_blocks.append(ciphertext[offset::key_len])\n",
    "    \n",
    "    #get corr_index\n",
    "    corr_index = 0\n",
    "    for block in text_blocks:\n",
    "        corr_index += get_corr_index(block) / key_len\n",
    "    \n",
    "    #print results\n",
    "    print('{:2d} : {:0.7f}'.format(key_len, corr_index))\n",
    "    #key length is 19\n",
    "    "
   ]
  },
  {
   "cell_type": "code",
   "execution_count": 22,
   "metadata": {},
   "outputs": [],
   "source": [
    "key_text_blocks = list()\n",
    "\n",
    "#get text blocks to crack the key\n",
    "for offset in range(0, 19):\n",
    "        key_text_blocks.append(ciphertext[offset::19])"
   ]
  },
  {
   "cell_type": "code",
   "execution_count": 23,
   "metadata": {},
   "outputs": [],
   "source": [
    "def get_most_frequent(text):\n",
    "    occurence_dict = init_dict()\n",
    "    for c in text:\n",
    "        occurence_dict[c] += 1\n",
    "    max_c = max(occurence_dict, key=occurence_dict.get)\n",
    "    return max_c"
   ]
  },
  {
   "cell_type": "code",
   "execution_count": 27,
   "metadata": {},
   "outputs": [],
   "source": [
    "def get_key_char(alphabet, block_most_freq, lang_most_freq):\n",
    "    b_index = alphabet.index(block_most_freq)\n",
    "    l_index = alphabet.index(lang_most_freq)\n",
    "    k_index = (b_index - l_index) % len(alphabet)\n",
    "    return alphabet[k_index]"
   ]
  },
  {
   "cell_type": "code",
   "execution_count": 28,
   "metadata": {},
   "outputs": [],
   "source": [
    "russian_most_freq = 'оеаинстр'"
   ]
  },
  {
   "cell_type": "code",
   "execution_count": 29,
   "metadata": {},
   "outputs": [],
   "source": [
    "keys = { x : '' for x in russian_most_freq }"
   ]
  },
  {
   "cell_type": "code",
   "execution_count": 30,
   "metadata": {},
   "outputs": [],
   "source": [
    "for char in russian_most_freq:\n",
    "    for text_block in key_text_blocks:\n",
    "        offset_most_freq = get_most_frequent(text_block)\n",
    "        \n",
    "        keys[char] += get_key_char(russian_alphabet, offset_most_freq, char)"
   ]
  },
  {
   "cell_type": "code",
   "execution_count": 31,
   "metadata": {},
   "outputs": [
    {
     "name": "stdout",
     "output_type": "stream",
     "text": [
      "о : ьоньисттцовыгермесч\n",
      "е : ечцесъыыячлдмощхоъа\n",
      "а : кьыкцяаадьрйсуюъуяе\n",
      "и : вфувочшшьфибйлцтлчэ\n",
      "н : эпоэйтуучпгьджснжтш\n",
      "с : щлкщеоппуляшавнйвоф\n",
      "т : шкйшднооткючябмибну\n",
      "р : ъмлъжпррфмащбгокгпх\n"
     ]
    }
   ],
   "source": [
    "for key, val in keys.items():\n",
    "    print('{} : {}'.format(key, val))"
   ]
  },
  {
   "cell_type": "code",
   "execution_count": 32,
   "metadata": {},
   "outputs": [],
   "source": [
    "plaintext = ''.join(vigenere_decode(russian_alphabet, e, k) for e, k in zip(ciphertext, cycle('конкистадорыгермеса')))"
   ]
  },
  {
   "cell_type": "code",
   "execution_count": 33,
   "metadata": {},
   "outputs": [
    {
     "name": "stdout",
     "output_type": "stream",
     "text": [
      "кронштадтявляетсянетолькоцентромстратегическогокомандованияроссиибоевойстанциейикосмическойверфьюздесьрасположенаединственнаязапределамиземлиофициальнаярезиденцияеговеличестваследовательноправительственныйблокстанциивыполняетипредставительскиефункцииничутьнехужечемзимнийдворецвпетербургеиликремльвмосквесделаноэтонарочновопервыхдлятогочтобыпоразитьвоображениеиностранныхгостейникогданевидевшихтакихграндиозныхсооруженийипредставитьвеличиеимощьимпериивовсемблескевовторыхподозреваюувысокогоруководствапоявилосьнеодолимоежеланиепотешитьсобственноесамолюбиезагадочнаярусскаядушажаждалаедвалинестепныхпросторовивизантийскойпышностивсочетаниисблагороднойстрогостьюкакэтиплохосочетаемыетребованияудалосьсовместитьдляменязагадканотемнеменеелюбойчеловеквпервыеочутившийсявпомещениискромноименуемомнасхемекронштадтапричаломномердолгонеможетотойтиоткультурногошокаобстановказдесьотнюдьневульгарнаяациклопическиемасштабысооруженияничутьнеугнетаютдажелюдейстрадающихагорафобиейсделанонамойвзглядсовкусомименнотакидолжныприниматьгостейруководителисупердержавденексегоднягрядетнапряженныйэтоявспомнилсразуедвапроснувшисьдлительныецеремониалынепременныйпротоколпышныемундирыигромкиеречикошмарсловомксожалениюмнепридетсявытерпетьвсюпроцедуруотначаладоконцаилишьвечеромпринятьучастиевтихоминезаметномсовещаниивбронзовойкомнатеадмиралбибиревнастоялнамоемприсутствиихотяпрямойнеобходимостивэтомяневижудосихпорхватитвалятьсявкроватипораначинатьсборысначалавдушпотомзаказатьуавтоповаразавтраквовремяедыпросмотретьважнейшиесводкиполученныезаночьславабогуничегоэкстраординарногонаинформационномполевременноцаритблагостнаятишинавремяподжимаетнадобыстроодеватьсяиодеватьсявсерьезпочемувсерьездапотомучтомнепредстоитоблачитьсянепростовпараднуюформуавцеремониальнопараднуюмонархиякакпринципгосударственногоустройстваимеетмногоплюсоводинизкоторыхневероятнаякрасотаипышностьлюбыхмероприятийотбанальногоразводакарауловувходоввзимнийдокоронацийилибракосочетанийпредставителейавгустейшейфамилиинодлячеловекапривыкшеготаскатьбереттельникинесковывающийдвиженияудобныйкомбинезониликамуфляжцеремониальнаясбруяневызываетничегокромеотвращениясущаяпыткаиначеинескажешьяотодвинулдверкушкафаикритическивоззрилсянаприготовленныймундирнечтопохожееянадевалвсегооднаждынаторжествапослучаювыпускаизучилищаоднакотогдаэтобыластандартнаяпараднаяформамладшеголейтенантаатеперьвашпокорнейшийслугаблагодеяниембибиреваобрелчинштабофицеракаковойнеимеетаналоговниводнойармиимираоставаясьвтабелиорангахобычнымкапитаномяполучилполномочиясравнимыесгенеральскиминикогданеощущалособойстрастикизучениюиностранныхнаречийоднакозаминувшиеполторамесяцаянаучилсявполнесносноболтатьнанемецкомвдополнениекдвумпривычнымязыкамрусскомуифранцузскомуединственноменянеимовернораздражаютсложныегерманскиесловатевтонскиеспасителиосвободителидажеобыкновенныйтанкназватьнормальнонемогутиспользуяпочтинепроизносимуюформулуизшестнадцатизвуковвосновномсогласныхкуртктопросилмолокапринестияпостучалсвободнойрукойпосеребристойбронеугловатогомонстрапритаившегосязаоградоймоегоскромногокоттеджамадамландрипередалатебегорячиекруассанысджемомвылезайшестьутрамеждупрочимтишинастучинестучинеуслышитяпоставилпакетназемлюподнялвалявшийсявозлегусеницыбулыжникипаруразотдушисаданулкамнемпобортускрипнулкомандирскийлюкнабашнеиоттудавысунуласьбелоброваяфизиономиямоегоновогоприятелялейтенантапанцерваффекуртавеберанащекемазокмашинногомасласоломенныеволосывзъерошенывидзаспанныйяведьемупредлагалпереночеватьдоманонетнепожелалбросатьстальногодругаолуиприветкуртоблокотилсяналюкизевнулзабирайсясюдавременималоменяждутвколледжетебенаслужбуквосьмигеррлейтенантглянулнамеханическиенаручныеходикисейчасшестьсминутамиидтидоцентрагородаполчасанебольшеанавелосипедетаквообщедоберешьсямигомявздохнулподобралпакетзалезнаверхиуселсярядомнабашневыставилнасветлыйметаллбутылкусмолокомипластиковыйконтейнерсосвежевыпеченнойсдобойздоровыйдеревенскийзавтраконименябросилисволочипожаловалсякуртявноимеяввидусвойдоблестныйэкипажсовсемраспустилисьнаэтомкурортевоттебеипрославленнаяввекахдисциплинагерманскойармиикажетсятыихсамвечеромотпустилнапомниляточныеобстоятельствавнарушениевсехивсяческихуставовничегоподоспеюткакразксменеотправитесьнабазупойдешьвувольнениезаглядывайсказалжевернутьсянепозжечетырехутрапродолжалворчатькуртпопиваяпарноемолокоявятсясперегаромубьюобоиххотябыпотомучтооткомандиравзводавлетитмнеанекомутодругомугосподихотьбывойнаначаласьчтолимытутсдохнемотскукинетужпокорнейшеблагодарюпоморщилсяявспоминаяиюньскийблицкригкакпосмеиваясьназвалвысадкунагермесрусскихисоюзниковмилейшийкапитанказаковхватитнавоевалисьпонятьнемогукаквынеразнесливмелкиещепкиквебекинеспалилиполовинугородамоиизвиненияоскалилсякуртдействительновмешиватьсянеследовалоавовсенаоборотследовалопозволитьвамощутитьнасебевсесомнительныепрелестишариатскогоправлениясомнительныеонитолькодлянаслюдейевропейскойцивилизациипожалплечамияаподданныехалифатавоспринимаютэтизаконывкачествеобязательнойиестественнойнормыинойменталитеткаквыражаетсядокторгильгофяпредпочитаюменталитетсобственныйсквозьнабитыйротсообщилкуртпопутновытираятыльнойсторонойладонипотекшеепоподбородкувареньеутебяумытьсяможнособакинесъедяттопайпокаяздесьсказаляотбираяпоследнийкруассантанкнеугонюнебеспокойсяонвсеравнонасигнализациифыркнулгеррлейтенантзахлопываялюкиспрыгиваяназемлюнепоказывалещемоесобственноеизобретениеотбездельячеготольконепридумаешьглядикуртвынулизкарманапростейшийгенераторультразвуканабатарейкахинажалединственнуюкнопкутанкморгнулпрожекторамищелкнуливнутренниезамочкилюковипослышалсядвойнойзуммерянеудержавшисьрасхохоталсяэтоведьнадобылододуматьсяприсобачитьнатиграавтомобильнуюсигнализациюасамоеглавноепримитивнаяэлектроннаясистемаотличноработаетдажевусловияхгермесавсектовидитсмеютсядовольноулыбаясьсогласилсякуртнекоторыеэкипажиужеперенялиновинкупридетсязапатентоватьлейтенантисчеззакалиткойясверхувиделкакмоиволкодавыленивообнюхалигостяиучуявзнакомыйзапахуспокоилисьотличнопонимаюкуртасейчаснагермесескучноашестаяособаятанковаядивизияхагенприбыланаэтупланетувоеватьивоеватьвсерьезпочемудивизияособаядапотомучтоонавсамомэкстренномпорядкебыласозданаправительствомгерманскойимперииспециальнодлябоевыхдействийнагермесепричемвеекомплектованиитехникойнеоценимуюпомощьоказалирусскиепоставившиедвигателииорудиядлямашинснепроизносимымшестнадцатибуквеннымнемецкимназваниемпанцеркампфвагенбронированнаябоеваямашинаавпросторечиичтопофранцузскичтопорусскиобычныйтанквпрочемнесовсемобычный\n"
     ]
    }
   ],
   "source": [
    "print(plaintext)"
   ]
  }
 ],
 "metadata": {
  "kernelspec": {
   "display_name": "Python 3",
   "language": "python",
   "name": "python3"
  },
  "language_info": {
   "codemirror_mode": {
    "name": "ipython",
    "version": 3
   },
   "file_extension": ".py",
   "mimetype": "text/x-python",
   "name": "python",
   "nbconvert_exporter": "python",
   "pygments_lexer": "ipython3",
   "version": "3.8.3"
  }
 },
 "nbformat": 4,
 "nbformat_minor": 4
}
