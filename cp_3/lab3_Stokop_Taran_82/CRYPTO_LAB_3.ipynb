{
 "cells": [
  {
   "cell_type": "code",
   "execution_count": 44,
   "metadata": {
    "ExecuteTime": {
     "end_time": "2020-11-10T09:28:13.070558Z",
     "start_time": "2020-11-10T09:28:13.063560Z"
    }
   },
   "outputs": [],
   "source": [
    "import codecs as cs\n",
    "import re\n",
    "from collections import Counter\n",
    "import math\n",
    "import string, collections, pprint\n",
    "from itertools import cycle\n",
    "import statistics as st\n",
    "\n",
    "from itertools import islice\n",
    "import itertools\n",
    "import collections\n",
    "import itertools as it"
   ]
  },
  {
   "cell_type": "code",
   "execution_count": 45,
   "metadata": {
    "ExecuteTime": {
     "end_time": "2020-11-10T09:28:13.441920Z",
     "start_time": "2020-11-10T09:28:13.434926Z"
    }
   },
   "outputs": [],
   "source": [
    "text=open('lab3_var17.txt','r',encoding='utf-8').read()\n",
    "text=text.replace('\\n','')"
   ]
  },
  {
   "cell_type": "code",
   "execution_count": 46,
   "metadata": {
    "ExecuteTime": {
     "end_time": "2020-11-10T09:28:13.720958Z",
     "start_time": "2020-11-10T09:28:13.707968Z"
    }
   },
   "outputs": [
    {
     "data": {
      "text/plain": [
       "21364"
      ]
     },
     "execution_count": 46,
     "metadata": {},
     "output_type": "execute_result"
    }
   ],
   "source": [
    "open('our_file','w', encoding='utf-8').write(text) #в our_file записали ШТ без переноса строки"
   ]
  },
  {
   "cell_type": "code",
   "execution_count": 47,
   "metadata": {
    "ExecuteTime": {
     "end_time": "2020-11-10T09:28:14.015793Z",
     "start_time": "2020-11-10T09:28:14.003801Z"
    }
   },
   "outputs": [],
   "source": [
    "def bigram_func(filename):\n",
    "    with open(filename, 'r', encoding='utf-8' ) as file:\n",
    "        strDataFile1 = file.read()\n",
    "        strDataFile2 = strDataFile1[1:]\n",
    "    \n",
    "    resDataFile = Counter()\n",
    "    resDataFile = Counter(map(''.join, zip(strDataFile1, strDataFile2))) \n",
    "        \n",
    "    freqDict = dict(resDataFile)\n",
    "    total = 0\n",
    "    for k in freqDict.values():\n",
    "        total += k\n",
    "    \n",
    "    for k in freqDict:\n",
    "        freqDict[k] = float(freqDict[k]/total)\n",
    "    return dict(sorted(freqDict.items(), key=lambda x: x[1], reverse=True))"
   ]
  },
  {
   "cell_type": "code",
   "execution_count": 48,
   "metadata": {
    "ExecuteTime": {
     "end_time": "2020-11-10T09:28:14.421132Z",
     "start_time": "2020-11-10T09:28:14.400122Z"
    }
   },
   "outputs": [],
   "source": [
    "d=bigram_func('our_file')\n",
    "keys = d.keys()\n",
    "first5vals = list(keys)[:5]\n",
    "\n"
   ]
  },
  {
   "cell_type": "code",
   "execution_count": 49,
   "metadata": {
    "ExecuteTime": {
     "end_time": "2020-11-10T09:28:14.763837Z",
     "start_time": "2020-11-10T09:28:14.754843Z"
    }
   },
   "outputs": [
    {
     "data": {
      "text/plain": [
       "['вк', 'ья', 'нв', 'ыщ', 'ьы']"
      ]
     },
     "execution_count": 49,
     "metadata": {},
     "output_type": "execute_result"
    }
   ],
   "source": [
    "first5vals #5 самых частых биграмм ШТ"
   ]
  },
  {
   "cell_type": "code",
   "execution_count": 50,
   "metadata": {
    "ExecuteTime": {
     "end_time": "2020-11-10T09:28:15.209570Z",
     "start_time": "2020-11-10T09:28:15.204572Z"
    }
   },
   "outputs": [],
   "source": [
    "bigrams_russ_lan=['ст', 'но','то','на','ен'] #5 самых частых биграмм русского алфавита"
   ]
  },
  {
   "cell_type": "code",
   "execution_count": 51,
   "metadata": {
    "ExecuteTime": {
     "end_time": "2020-11-10T09:28:15.847966Z",
     "start_time": "2020-11-10T09:28:15.837988Z"
    }
   },
   "outputs": [],
   "source": [
    "alphabet='абвгдежзийклмнопрстуфхцчшщьыэюя'\n",
    "our_alphabet=dict((alphabet[i], i) for i in range(len(alphabet)))\n",
    "#our_alphabet = dict((v,k) for k,v in our_alphabet.items())"
   ]
  },
  {
   "cell_type": "code",
   "execution_count": 52,
   "metadata": {
    "ExecuteTime": {
     "end_time": "2020-11-10T09:28:16.200742Z",
     "start_time": "2020-11-10T09:28:16.196743Z"
    }
   },
   "outputs": [],
   "source": [
    "m=len(alphabet) #m=31"
   ]
  },
  {
   "cell_type": "code",
   "execution_count": 53,
   "metadata": {
    "ExecuteTime": {
     "end_time": "2020-11-10T09:28:16.677819Z",
     "start_time": "2020-11-10T09:28:16.668823Z"
    }
   },
   "outputs": [],
   "source": [
    "def gcd_evkl(a, b):    \n",
    "    if a == 0:\n",
    "        return (b, 0, 1)\n",
    "    else:\n",
    "        g, x, y = gcd_evkl(b % a, a)    #g - наибольший общий делитель;\n",
    "                                        #x,y - такие, что ax+by=d\n",
    "        return (g, y - (b // a) * x, x)"
   ]
  },
  {
   "cell_type": "code",
   "execution_count": 54,
   "metadata": {
    "ExecuteTime": {
     "end_time": "2020-11-10T09:28:17.893748Z",
     "start_time": "2020-11-10T09:28:17.888750Z"
    }
   },
   "outputs": [],
   "source": [
    "def gcd(a, b):\n",
    "    gcd, x,y = gcd_evkl(a,b);\n",
    "    return gcd"
   ]
  },
  {
   "cell_type": "code",
   "execution_count": 55,
   "metadata": {
    "ExecuteTime": {
     "end_time": "2020-11-10T09:28:18.403167Z",
     "start_time": "2020-11-10T09:28:18.395171Z"
    }
   },
   "outputs": [],
   "source": [
    "#b mod(n)\n",
    "def find_inv(b, n):     #_ = 0 => bx mod n + 0 = g\n",
    "                        #если g = 1, обратный к b  \n",
    "    g, x, _ = gcd_evkl(b, n)\n",
    "    if g == 1:\n",
    "        return x % n\n",
    "    else:\n",
    "        return print('there is no inverse element')"
   ]
  },
  {
   "cell_type": "code",
   "execution_count": 56,
   "metadata": {
    "ExecuteTime": {
     "end_time": "2020-11-10T09:28:18.872609Z",
     "start_time": "2020-11-10T09:28:18.861614Z"
    }
   },
   "outputs": [],
   "source": [
    "def linear_equation(a,b,m): #ax = b mod m\n",
    "    if gcd(a, m) == 1:\n",
    "        return (find_inv(a,m) * b) % m\n",
    "    if gcd(a, m) > 1 and b%gcd(a, m) == 0:\n",
    "        a, b, n = a // gcd(a, m), b // gcd(a, m), m // gcd(a, m)\n",
    "        x = linear_equation(a,b,n) #будет рекурсивно вызываться пока gcd(a,n) НЕ БУДЕТ РАВНО 1\n",
    "                                    #найдем за формулой x, который и вернет функция(в первом блоке)\n",
    "        solutions = []\n",
    "        for i in range(x,m,n): #проходимся по ренжу от найденого х до заданого мода с шагом n=m//gcd(a,m)\n",
    "            solutions.append(i)\n",
    "        return solutions"
   ]
  },
  {
   "cell_type": "code",
   "execution_count": 57,
   "metadata": {
    "ExecuteTime": {
     "end_time": "2020-11-10T09:28:19.370431Z",
     "start_time": "2020-11-10T09:28:19.365431Z"
    }
   },
   "outputs": [],
   "source": [
    "sqrt_m=m*m"
   ]
  },
  {
   "cell_type": "code",
   "execution_count": 58,
   "metadata": {
    "ExecuteTime": {
     "end_time": "2020-11-10T09:28:20.053037Z",
     "start_time": "2020-11-10T09:28:20.039044Z"
    }
   },
   "outputs": [
    {
     "data": {
      "text/plain": [
       "10682"
      ]
     },
     "execution_count": 58,
     "metadata": {},
     "output_type": "execute_result"
    }
   ],
   "source": [
    "#text                               #разделяем ШТ на биграммы\n",
    "part1 = text\n",
    "part2 = part1[1:]\n",
    "k=list(map(''.join, zip(part1[::2], part2[::2])))\n",
    "len(k)"
   ]
  },
  {
   "cell_type": "code",
   "execution_count": 59,
   "metadata": {
    "ExecuteTime": {
     "end_time": "2020-11-10T09:28:20.929932Z",
     "start_time": "2020-11-10T09:28:20.919936Z"
    }
   },
   "outputs": [],
   "source": [
    "alph_len = len(alphabet)                   #создаем \"алфавит\" биграмм\n",
    "alph_of_bigrams = dict()\n",
    "for i in alphabet:\n",
    "    for j in alphabet:\n",
    "        lett_1 = our_alphabet[i]\n",
    "        lett_2 = our_alphabet[j]\n",
    "        alph_of_bigrams[lett_1*alph_len+lett_2] = i + j"
   ]
  },
  {
   "cell_type": "code",
   "execution_count": 60,
   "metadata": {
    "ExecuteTime": {
     "end_time": "2020-11-10T09:28:21.407960Z",
     "start_time": "2020-11-10T09:28:21.397988Z"
    }
   },
   "outputs": [],
   "source": [
    "def check_pair(a, b):                    #проверяем кандиаты на ключи\n",
    "    values_Yi = []\n",
    "    values_Xi = []\n",
    "    for i in range(0,len(k)):\n",
    "        values_Yi.append(int(our_alphabet[k[i][0]]*m+our_alphabet[k[i][1]])) \n",
    "    for j in values_Yi:\n",
    "        values_Xi.append(int(find_inv(a, sqrt_m)*(j - b) % sqrt_m))    # Xi= a^(-1)*(Yi-b) mod sqrt_m\n",
    "    return values_Xi"
   ]
  },
  {
   "cell_type": "code",
   "execution_count": 61,
   "metadata": {
    "ExecuteTime": {
     "end_time": "2020-11-10T09:28:21.936416Z",
     "start_time": "2020-11-10T09:28:21.923424Z"
    }
   },
   "outputs": [],
   "source": [
    "bigrams_russ_lan_inter = list(it.permutations(bigrams_russ_lan, 2)) #все возможные комбинации без поворяющихся элементов\n",
    "first5vals_inter = list(it.permutations(first5vals, 2))\n",
    "\n",
    "R_and_E = []                                                        #список с размещениями частот биграм русского языка и ШТ\n",
    "for i in range(len(bigrams_russ_lan_inter)):\n",
    "    for j in range(len(first5vals_inter)):\n",
    "        if bigrams_russ_lan_inter[i][0] != bigrams_russ_lan_inter[j][0] and first5vals_inter[i][1] != first5vals_inter[j][1]:\n",
    "            R_and_E.append((bigrams_russ_lan_inter[i][0], bigrams_russ_lan_inter[j][0], first5vals_inter[i][1], first5vals_inter[j][1]))"
   ]
  },
  {
   "cell_type": "code",
   "execution_count": 62,
   "metadata": {
    "ExecuteTime": {
     "end_time": "2020-11-10T09:28:22.849787Z",
     "start_time": "2020-11-10T09:28:22.797814Z"
    }
   },
   "outputs": [
    {
     "data": {
      "text/plain": [
       "[('ст', 'но', 'ья', 'вк'),\n",
       " ('ст', 'но', 'ья', 'нв'),\n",
       " ('ст', 'но', 'ья', 'ыщ'),\n",
       " ('ст', 'но', 'ья', 'ьы'),\n",
       " ('ст', 'то', 'ья', 'вк'),\n",
       " ('ст', 'то', 'ья', 'ыщ'),\n",
       " ('ст', 'то', 'ья', 'ьы'),\n",
       " ('ст', 'на', 'ья', 'вк'),\n",
       " ('ст', 'на', 'ья', 'нв'),\n",
       " ('ст', 'на', 'ья', 'ьы'),\n",
       " ('ст', 'ен', 'ья', 'вк'),\n",
       " ('ст', 'ен', 'ья', 'нв'),\n",
       " ('ст', 'ен', 'ья', 'ыщ'),\n",
       " ('ст', 'но', 'нв', 'вк'),\n",
       " ('ст', 'но', 'нв', 'ыщ'),\n",
       " ('ст', 'но', 'нв', 'ьы'),\n",
       " ('ст', 'то', 'нв', 'вк'),\n",
       " ('ст', 'то', 'нв', 'ья'),\n",
       " ('ст', 'то', 'нв', 'ыщ'),\n",
       " ('ст', 'то', 'нв', 'ьы'),\n",
       " ('ст', 'на', 'нв', 'вк'),\n",
       " ('ст', 'на', 'нв', 'ья'),\n",
       " ('ст', 'на', 'нв', 'ьы'),\n",
       " ('ст', 'ен', 'нв', 'вк'),\n",
       " ('ст', 'ен', 'нв', 'ья'),\n",
       " ('ст', 'ен', 'нв', 'ыщ'),\n",
       " ('ст', 'но', 'ыщ', 'вк'),\n",
       " ('ст', 'но', 'ыщ', 'нв'),\n",
       " ('ст', 'но', 'ыщ', 'ьы'),\n",
       " ('ст', 'то', 'ыщ', 'вк'),\n",
       " ('ст', 'то', 'ыщ', 'ья'),\n",
       " ('ст', 'то', 'ыщ', 'ьы'),\n",
       " ('ст', 'на', 'ыщ', 'вк'),\n",
       " ('ст', 'на', 'ыщ', 'ья'),\n",
       " ('ст', 'на', 'ыщ', 'нв'),\n",
       " ('ст', 'на', 'ыщ', 'ьы'),\n",
       " ('ст', 'ен', 'ыщ', 'вк'),\n",
       " ('ст', 'ен', 'ыщ', 'ья'),\n",
       " ('ст', 'ен', 'ыщ', 'нв'),\n",
       " ('ст', 'но', 'ьы', 'вк'),\n",
       " ('ст', 'но', 'ьы', 'нв'),\n",
       " ('ст', 'но', 'ьы', 'ыщ'),\n",
       " ('ст', 'то', 'ьы', 'вк'),\n",
       " ('ст', 'то', 'ьы', 'ья'),\n",
       " ('ст', 'то', 'ьы', 'ыщ'),\n",
       " ('ст', 'на', 'ьы', 'вк'),\n",
       " ('ст', 'на', 'ьы', 'ья'),\n",
       " ('ст', 'на', 'ьы', 'нв'),\n",
       " ('ст', 'ен', 'ьы', 'вк'),\n",
       " ('ст', 'ен', 'ьы', 'ья'),\n",
       " ('ст', 'ен', 'ьы', 'нв'),\n",
       " ('ст', 'ен', 'ьы', 'ыщ'),\n",
       " ('но', 'ст', 'вк', 'ья'),\n",
       " ('но', 'ст', 'вк', 'нв'),\n",
       " ('но', 'ст', 'вк', 'ыщ'),\n",
       " ('но', 'ст', 'вк', 'ьы'),\n",
       " ('но', 'то', 'вк', 'ья'),\n",
       " ('но', 'то', 'вк', 'ыщ'),\n",
       " ('но', 'то', 'вк', 'ьы'),\n",
       " ('но', 'на', 'вк', 'ья'),\n",
       " ('но', 'на', 'вк', 'нв'),\n",
       " ('но', 'на', 'вк', 'ьы'),\n",
       " ('но', 'ен', 'вк', 'ья'),\n",
       " ('но', 'ен', 'вк', 'нв'),\n",
       " ('но', 'ен', 'вк', 'ыщ'),\n",
       " ('но', 'ст', 'нв', 'ья'),\n",
       " ('но', 'ст', 'нв', 'ыщ'),\n",
       " ('но', 'ст', 'нв', 'ьы'),\n",
       " ('но', 'то', 'нв', 'вк'),\n",
       " ('но', 'то', 'нв', 'ья'),\n",
       " ('но', 'то', 'нв', 'ыщ'),\n",
       " ('но', 'то', 'нв', 'ьы'),\n",
       " ('но', 'на', 'нв', 'вк'),\n",
       " ('но', 'на', 'нв', 'ья'),\n",
       " ('но', 'на', 'нв', 'ьы'),\n",
       " ('но', 'ен', 'нв', 'вк'),\n",
       " ('но', 'ен', 'нв', 'ья'),\n",
       " ('но', 'ен', 'нв', 'ыщ'),\n",
       " ('но', 'ст', 'ыщ', 'ья'),\n",
       " ('но', 'ст', 'ыщ', 'нв'),\n",
       " ('но', 'ст', 'ыщ', 'ьы'),\n",
       " ('но', 'то', 'ыщ', 'вк'),\n",
       " ('но', 'то', 'ыщ', 'ья'),\n",
       " ('но', 'то', 'ыщ', 'ьы'),\n",
       " ('но', 'на', 'ыщ', 'вк'),\n",
       " ('но', 'на', 'ыщ', 'ья'),\n",
       " ('но', 'на', 'ыщ', 'нв'),\n",
       " ('но', 'на', 'ыщ', 'ьы'),\n",
       " ('но', 'ен', 'ыщ', 'вк'),\n",
       " ('но', 'ен', 'ыщ', 'ья'),\n",
       " ('но', 'ен', 'ыщ', 'нв'),\n",
       " ('но', 'ст', 'ьы', 'ья'),\n",
       " ('но', 'ст', 'ьы', 'нв'),\n",
       " ('но', 'ст', 'ьы', 'ыщ'),\n",
       " ('но', 'то', 'ьы', 'вк'),\n",
       " ('но', 'то', 'ьы', 'ья'),\n",
       " ('но', 'то', 'ьы', 'ыщ'),\n",
       " ('но', 'на', 'ьы', 'вк'),\n",
       " ('но', 'на', 'ьы', 'ья'),\n",
       " ('но', 'на', 'ьы', 'нв'),\n",
       " ('но', 'ен', 'ьы', 'вк'),\n",
       " ('но', 'ен', 'ьы', 'ья'),\n",
       " ('но', 'ен', 'ьы', 'нв'),\n",
       " ('но', 'ен', 'ьы', 'ыщ'),\n",
       " ('то', 'ст', 'вк', 'ья'),\n",
       " ('то', 'ст', 'вк', 'нв'),\n",
       " ('то', 'ст', 'вк', 'ыщ'),\n",
       " ('то', 'ст', 'вк', 'ьы'),\n",
       " ('то', 'но', 'вк', 'нв'),\n",
       " ('то', 'но', 'вк', 'ыщ'),\n",
       " ('то', 'но', 'вк', 'ьы'),\n",
       " ('то', 'на', 'вк', 'ья'),\n",
       " ('то', 'на', 'вк', 'нв'),\n",
       " ('то', 'на', 'вк', 'ьы'),\n",
       " ('то', 'ен', 'вк', 'ья'),\n",
       " ('то', 'ен', 'вк', 'нв'),\n",
       " ('то', 'ен', 'вк', 'ыщ'),\n",
       " ('то', 'ст', 'ья', 'нв'),\n",
       " ('то', 'ст', 'ья', 'ыщ'),\n",
       " ('то', 'ст', 'ья', 'ьы'),\n",
       " ('то', 'но', 'ья', 'вк'),\n",
       " ('то', 'но', 'ья', 'нв'),\n",
       " ('то', 'но', 'ья', 'ыщ'),\n",
       " ('то', 'но', 'ья', 'ьы'),\n",
       " ('то', 'на', 'ья', 'вк'),\n",
       " ('то', 'на', 'ья', 'нв'),\n",
       " ('то', 'на', 'ья', 'ьы'),\n",
       " ('то', 'ен', 'ья', 'вк'),\n",
       " ('то', 'ен', 'ья', 'нв'),\n",
       " ('то', 'ен', 'ья', 'ыщ'),\n",
       " ('то', 'ст', 'ыщ', 'ья'),\n",
       " ('то', 'ст', 'ыщ', 'нв'),\n",
       " ('то', 'ст', 'ыщ', 'ьы'),\n",
       " ('то', 'но', 'ыщ', 'вк'),\n",
       " ('то', 'но', 'ыщ', 'нв'),\n",
       " ('то', 'но', 'ыщ', 'ьы'),\n",
       " ('то', 'на', 'ыщ', 'вк'),\n",
       " ('то', 'на', 'ыщ', 'ья'),\n",
       " ('то', 'на', 'ыщ', 'нв'),\n",
       " ('то', 'на', 'ыщ', 'ьы'),\n",
       " ('то', 'ен', 'ыщ', 'вк'),\n",
       " ('то', 'ен', 'ыщ', 'ья'),\n",
       " ('то', 'ен', 'ыщ', 'нв'),\n",
       " ('то', 'ст', 'ьы', 'ья'),\n",
       " ('то', 'ст', 'ьы', 'нв'),\n",
       " ('то', 'ст', 'ьы', 'ыщ'),\n",
       " ('то', 'но', 'ьы', 'вк'),\n",
       " ('то', 'но', 'ьы', 'нв'),\n",
       " ('то', 'но', 'ьы', 'ыщ'),\n",
       " ('то', 'на', 'ьы', 'вк'),\n",
       " ('то', 'на', 'ьы', 'ья'),\n",
       " ('то', 'на', 'ьы', 'нв'),\n",
       " ('то', 'ен', 'ьы', 'вк'),\n",
       " ('то', 'ен', 'ьы', 'ья'),\n",
       " ('то', 'ен', 'ьы', 'нв'),\n",
       " ('то', 'ен', 'ьы', 'ыщ'),\n",
       " ('на', 'ст', 'вк', 'ья'),\n",
       " ('на', 'ст', 'вк', 'нв'),\n",
       " ('на', 'ст', 'вк', 'ыщ'),\n",
       " ('на', 'ст', 'вк', 'ьы'),\n",
       " ('на', 'но', 'вк', 'нв'),\n",
       " ('на', 'но', 'вк', 'ыщ'),\n",
       " ('на', 'но', 'вк', 'ьы'),\n",
       " ('на', 'то', 'вк', 'ья'),\n",
       " ('на', 'то', 'вк', 'ыщ'),\n",
       " ('на', 'то', 'вк', 'ьы'),\n",
       " ('на', 'ен', 'вк', 'ья'),\n",
       " ('на', 'ен', 'вк', 'нв'),\n",
       " ('на', 'ен', 'вк', 'ыщ'),\n",
       " ('на', 'ст', 'ья', 'нв'),\n",
       " ('на', 'ст', 'ья', 'ыщ'),\n",
       " ('на', 'ст', 'ья', 'ьы'),\n",
       " ('на', 'но', 'ья', 'вк'),\n",
       " ('на', 'но', 'ья', 'нв'),\n",
       " ('на', 'но', 'ья', 'ыщ'),\n",
       " ('на', 'но', 'ья', 'ьы'),\n",
       " ('на', 'то', 'ья', 'вк'),\n",
       " ('на', 'то', 'ья', 'ыщ'),\n",
       " ('на', 'то', 'ья', 'ьы'),\n",
       " ('на', 'ен', 'ья', 'вк'),\n",
       " ('на', 'ен', 'ья', 'нв'),\n",
       " ('на', 'ен', 'ья', 'ыщ'),\n",
       " ('на', 'ст', 'нв', 'ья'),\n",
       " ('на', 'ст', 'нв', 'ыщ'),\n",
       " ('на', 'ст', 'нв', 'ьы'),\n",
       " ('на', 'но', 'нв', 'вк'),\n",
       " ('на', 'но', 'нв', 'ыщ'),\n",
       " ('на', 'но', 'нв', 'ьы'),\n",
       " ('на', 'то', 'нв', 'вк'),\n",
       " ('на', 'то', 'нв', 'ья'),\n",
       " ('на', 'то', 'нв', 'ыщ'),\n",
       " ('на', 'то', 'нв', 'ьы'),\n",
       " ('на', 'ен', 'нв', 'вк'),\n",
       " ('на', 'ен', 'нв', 'ья'),\n",
       " ('на', 'ен', 'нв', 'ыщ'),\n",
       " ('на', 'ст', 'ьы', 'ья'),\n",
       " ('на', 'ст', 'ьы', 'нв'),\n",
       " ('на', 'ст', 'ьы', 'ыщ'),\n",
       " ('на', 'но', 'ьы', 'вк'),\n",
       " ('на', 'но', 'ьы', 'нв'),\n",
       " ('на', 'но', 'ьы', 'ыщ'),\n",
       " ('на', 'то', 'ьы', 'вк'),\n",
       " ('на', 'то', 'ьы', 'ья'),\n",
       " ('на', 'то', 'ьы', 'ыщ'),\n",
       " ('на', 'ен', 'ьы', 'вк'),\n",
       " ('на', 'ен', 'ьы', 'ья'),\n",
       " ('на', 'ен', 'ьы', 'нв'),\n",
       " ('на', 'ен', 'ьы', 'ыщ'),\n",
       " ('ен', 'ст', 'вк', 'ья'),\n",
       " ('ен', 'ст', 'вк', 'нв'),\n",
       " ('ен', 'ст', 'вк', 'ыщ'),\n",
       " ('ен', 'ст', 'вк', 'ьы'),\n",
       " ('ен', 'но', 'вк', 'нв'),\n",
       " ('ен', 'но', 'вк', 'ыщ'),\n",
       " ('ен', 'но', 'вк', 'ьы'),\n",
       " ('ен', 'то', 'вк', 'ья'),\n",
       " ('ен', 'то', 'вк', 'ыщ'),\n",
       " ('ен', 'то', 'вк', 'ьы'),\n",
       " ('ен', 'на', 'вк', 'ья'),\n",
       " ('ен', 'на', 'вк', 'нв'),\n",
       " ('ен', 'на', 'вк', 'ьы'),\n",
       " ('ен', 'ст', 'ья', 'нв'),\n",
       " ('ен', 'ст', 'ья', 'ыщ'),\n",
       " ('ен', 'ст', 'ья', 'ьы'),\n",
       " ('ен', 'но', 'ья', 'вк'),\n",
       " ('ен', 'но', 'ья', 'нв'),\n",
       " ('ен', 'но', 'ья', 'ыщ'),\n",
       " ('ен', 'но', 'ья', 'ьы'),\n",
       " ('ен', 'то', 'ья', 'вк'),\n",
       " ('ен', 'то', 'ья', 'ыщ'),\n",
       " ('ен', 'то', 'ья', 'ьы'),\n",
       " ('ен', 'на', 'ья', 'вк'),\n",
       " ('ен', 'на', 'ья', 'нв'),\n",
       " ('ен', 'на', 'ья', 'ьы'),\n",
       " ('ен', 'ст', 'нв', 'ья'),\n",
       " ('ен', 'ст', 'нв', 'ыщ'),\n",
       " ('ен', 'ст', 'нв', 'ьы'),\n",
       " ('ен', 'но', 'нв', 'вк'),\n",
       " ('ен', 'но', 'нв', 'ыщ'),\n",
       " ('ен', 'но', 'нв', 'ьы'),\n",
       " ('ен', 'то', 'нв', 'вк'),\n",
       " ('ен', 'то', 'нв', 'ья'),\n",
       " ('ен', 'то', 'нв', 'ыщ'),\n",
       " ('ен', 'то', 'нв', 'ьы'),\n",
       " ('ен', 'на', 'нв', 'вк'),\n",
       " ('ен', 'на', 'нв', 'ья'),\n",
       " ('ен', 'на', 'нв', 'ьы'),\n",
       " ('ен', 'ст', 'ыщ', 'ья'),\n",
       " ('ен', 'ст', 'ыщ', 'нв'),\n",
       " ('ен', 'ст', 'ыщ', 'ьы'),\n",
       " ('ен', 'но', 'ыщ', 'вк'),\n",
       " ('ен', 'но', 'ыщ', 'нв'),\n",
       " ('ен', 'но', 'ыщ', 'ьы'),\n",
       " ('ен', 'то', 'ыщ', 'вк'),\n",
       " ('ен', 'то', 'ыщ', 'ья'),\n",
       " ('ен', 'то', 'ыщ', 'ьы'),\n",
       " ('ен', 'на', 'ыщ', 'вк'),\n",
       " ('ен', 'на', 'ыщ', 'ья'),\n",
       " ('ен', 'на', 'ыщ', 'нв'),\n",
       " ('ен', 'на', 'ыщ', 'ьы')]"
      ]
     },
     "execution_count": 62,
     "metadata": {},
     "output_type": "execute_result"
    }
   ],
   "source": [
    "R_and_E"
   ]
  },
  {
   "cell_type": "code",
   "execution_count": 63,
   "metadata": {
    "ExecuteTime": {
     "end_time": "2020-11-10T09:28:23.801564Z",
     "start_time": "2020-11-10T09:28:23.728605Z"
    }
   },
   "outputs": [],
   "source": [
    "pairs_ab = []                #находим а,b для линейного уравнения\n",
    "values_a1_and_b1 = []\n",
    "for k in range(len(R_and_E)):\n",
    "    a1 = list(alph_of_bigrams.keys())[list(alph_of_bigrams.values()).index(R_and_E[k][0])]\n",
    "    a2 = list(alph_of_bigrams.keys())[list(alph_of_bigrams.values()).index(R_and_E[k][1])]\n",
    "    a = a1-a2\n",
    "    b1 = list(alph_of_bigrams.keys())[list(alph_of_bigrams.values()).index(R_and_E[k][2])]\n",
    "    b2 = list(alph_of_bigrams.keys())[list(alph_of_bigrams.values()).index(R_and_E[k][3])]\n",
    "    b = b1-b2\n",
    "    pairs_ab.append([a,b])\n",
    "    values_a1_and_b1.append([a1,b1])   \n"
   ]
  },
  {
   "cell_type": "code",
   "execution_count": 43,
   "metadata": {
    "ExecuteTime": {
     "end_time": "2020-11-10T09:28:00.420423Z",
     "start_time": "2020-11-10T09:28:00.378444Z"
    }
   },
   "outputs": [
    {
     "name": "stdout",
     "output_type": "stream",
     "text": [
      "36 436  \n",
      "131 555  \n",
      "195 271  \n",
      "458 125  \n",
      "None None  \n",
      "None None  \n",
      "None None  \n",
      "628 692  \n",
      "470 312  \n",
      "88 926  \n",
      "624 950  \n",
      "669 450  \n",
      "497 12  \n",
      "866 286  \n",
      "64 121  \n",
      "327 936  \n",
      "None None  \n",
      "None None  \n",
      "None None  \n",
      "None None  \n",
      "158 785  \n",
      "491 929  \n",
      "579 58  \n",
      "916 905  \n",
      "292 791  \n",
      "789 928  \n",
      "802 66  \n",
      "897 185  \n",
      "263 716  \n",
      "None None  \n",
      "None None  \n",
      "None None  \n",
      "750 537  \n",
      "122 681  \n",
      "592 157  \n",
      "210 771  \n",
      "127 839  \n",
      "464 725  \n",
      "172 339  \n",
      "539 183  \n",
      "634 302  \n",
      "698 18  \n",
      "None None  \n",
      "None None  \n",
      "None None  \n",
      "540 599  \n",
      "873 743  \n",
      "382 219  \n",
      "53 778  \n",
      "390 664  \n",
      "98 278  \n",
      "887 801  \n",
      "None None  \n",
      "None None  \n",
      "None None  \n",
      "None None  \n",
      "None None  \n",
      "None None  \n",
      "None None  \n",
      "220 588  \n",
      "594 312  \n",
      "838 430  \n",
      "352 321  \n",
      "566 456  \n",
      "47 654  \n",
      "None None  \n",
      "None None  \n",
      "None None  \n",
      "None None  \n",
      "None None  \n",
      "None None  \n",
      "None None  \n",
      "367 165  \n",
      "587 681  \n",
      "244 523  \n",
      "395 21  \n",
      "747 270  \n",
      "442 603  \n",
      "None None  \n",
      "None None  \n",
      "None None  \n",
      "None None  \n",
      "None None  \n",
      "None None  \n",
      "331 258  \n",
      "551 774  \n",
      "925 498  \n",
      "208 616  \n",
      "914 280  \n",
      "305 529  \n",
      "519 664  \n",
      "None None  \n",
      "None None  \n",
      "None None  \n",
      "None None  \n",
      "None None  \n",
      "None None  \n",
      "123 475  \n",
      "343 30  \n",
      "717 715  \n",
      "389 68  \n",
      "741 317  \n",
      "955 452  \n",
      "436 650  \n",
      "470 312  \n",
      "308 720  \n",
      "647 934  \n",
      "43 462  \n",
      "None None  \n"
     ]
    },
    {
     "ename": "TypeError",
     "evalue": "int() argument must be a string, a bytes-like object or a number, not 'list'",
     "output_type": "error",
     "traceback": [
      "\u001b[1;31m---------------------------------------------------------------------------\u001b[0m",
      "\u001b[1;31mTypeError\u001b[0m                                 Traceback (most recent call last)",
      "\u001b[1;32m<ipython-input-43-392aab7b2eae>\u001b[0m in \u001b[0;36m<module>\u001b[1;34m\u001b[0m\n\u001b[0;32m      6\u001b[0m     \u001b[0mB\u001b[0m \u001b[1;33m=\u001b[0m \u001b[1;32mNone\u001b[0m\u001b[1;33m\u001b[0m\u001b[0m\n\u001b[0;32m      7\u001b[0m     \u001b[1;32mif\u001b[0m \u001b[0mA\u001b[0m \u001b[1;33m!=\u001b[0m \u001b[1;32mNone\u001b[0m\u001b[1;33m:\u001b[0m\u001b[1;33m\u001b[0m\u001b[0m\n\u001b[1;32m----> 8\u001b[1;33m         \u001b[0mB\u001b[0m \u001b[1;33m=\u001b[0m\u001b[1;33m(\u001b[0m\u001b[0mint\u001b[0m\u001b[1;33m(\u001b[0m\u001b[0mvalues_a1_and_b1\u001b[0m\u001b[1;33m[\u001b[0m\u001b[0mi\u001b[0m\u001b[1;33m]\u001b[0m\u001b[1;33m[\u001b[0m\u001b[1;36m1\u001b[0m\u001b[1;33m]\u001b[0m\u001b[1;33m)\u001b[0m \u001b[1;33m-\u001b[0m \u001b[0mint\u001b[0m\u001b[1;33m(\u001b[0m\u001b[0mA\u001b[0m\u001b[1;33m)\u001b[0m\u001b[1;33m*\u001b[0m\u001b[0mint\u001b[0m\u001b[1;33m(\u001b[0m\u001b[0mvalues_a1_and_b1\u001b[0m\u001b[1;33m[\u001b[0m\u001b[0mi\u001b[0m\u001b[1;33m]\u001b[0m\u001b[1;33m[\u001b[0m\u001b[1;36m0\u001b[0m\u001b[1;33m]\u001b[0m\u001b[1;33m)\u001b[0m\u001b[1;33m)\u001b[0m\u001b[1;33m%\u001b[0m\u001b[0msqrt_m\u001b[0m   \u001b[1;31m#B = ((Yi*) - A*(Xi*) ) mod sqrt_m.\u001b[0m\u001b[1;33m\u001b[0m\u001b[0m\n\u001b[0m\u001b[0;32m      9\u001b[0m         \u001b[0mpossible_keys\u001b[0m\u001b[1;33m.\u001b[0m\u001b[0mappend\u001b[0m\u001b[1;33m(\u001b[0m\u001b[1;33m[\u001b[0m\u001b[0mA\u001b[0m\u001b[1;33m,\u001b[0m\u001b[0mB\u001b[0m\u001b[1;33m]\u001b[0m\u001b[1;33m)\u001b[0m\u001b[1;33m\u001b[0m\u001b[0m\n\u001b[0;32m     10\u001b[0m     \u001b[0mprint\u001b[0m\u001b[1;33m(\u001b[0m\u001b[0mA\u001b[0m\u001b[1;33m,\u001b[0m\u001b[0mB\u001b[0m\u001b[1;33m,\u001b[0m\u001b[1;34m' '\u001b[0m\u001b[1;33m)\u001b[0m\u001b[1;33m\u001b[0m\u001b[0m\n",
      "\u001b[1;31mTypeError\u001b[0m: int() argument must be a string, a bytes-like object or a number, not 'list'"
     ]
    }
   ],
   "source": [
    "possible_keys = []\n",
    "for i in range(len(pairs_ab)):\n",
    "    a = pairs_ab[i][0]\n",
    "    b = pairs_ab[i][1]\n",
    "    A=linear_equation(a,b,sqrt_m)\n",
    "    B = None\n",
    "    if A != None:\n",
    "        B =(int(values_a1_and_b1[i][1]) - int(A)*int(values_a1_and_b1[i][0]))%sqrt_m   #B = ((Yi*) - A*(Xi*) ) mod sqrt_m.\n",
    "        possible_keys.append([A,B])    \n",
    "    print(A,B,' ')"
   ]
  },
  {
   "cell_type": "code",
   "execution_count": 66,
   "metadata": {
    "ExecuteTime": {
     "end_time": "2020-11-10T09:28:55.494179Z",
     "start_time": "2020-11-10T09:28:55.480209Z"
    }
   },
   "outputs": [
    {
     "data": {
      "text/plain": [
       "[[36, 436],\n",
       " [131, 555],\n",
       " [195, 271],\n",
       " [458, 125],\n",
       " [628, 692],\n",
       " [470, 312],\n",
       " [88, 926],\n",
       " [624, 950],\n",
       " [669, 450],\n",
       " [497, 12],\n",
       " [866, 286],\n",
       " [64, 121],\n",
       " [327, 936],\n",
       " [158, 785],\n",
       " [491, 929],\n",
       " [579, 58],\n",
       " [916, 905],\n",
       " [292, 791],\n",
       " [789, 928],\n",
       " [802, 66],\n",
       " [897, 185],\n",
       " [263, 716],\n",
       " [750, 537],\n",
       " [122, 681],\n",
       " [592, 157],\n",
       " [210, 771],\n",
       " [127, 839],\n",
       " [464, 725],\n",
       " [172, 339],\n",
       " [539, 183],\n",
       " [634, 302],\n",
       " [698, 18],\n",
       " [540, 599],\n",
       " [873, 743],\n",
       " [382, 219],\n",
       " [53, 778],\n",
       " [390, 664],\n",
       " [98, 278],\n",
       " [887, 801],\n",
       " [220, 588],\n",
       " [594, 312],\n",
       " [838, 430],\n",
       " [352, 321],\n",
       " [566, 456],\n",
       " [47, 654],\n",
       " [367, 165],\n",
       " [587, 681],\n",
       " [244, 523],\n",
       " [395, 21],\n",
       " [747, 270],\n",
       " [442, 603],\n",
       " [331, 258],\n",
       " [551, 774],\n",
       " [925, 498],\n",
       " [208, 616],\n",
       " [914, 280],\n",
       " [305, 529],\n",
       " [519, 664],\n",
       " [123, 475],\n",
       " [343, 30],\n",
       " [717, 715],\n",
       " [389, 68],\n",
       " [741, 317],\n",
       " [955, 452],\n",
       " [436, 650],\n",
       " [470, 312],\n",
       " [308, 720],\n",
       " [647, 934],\n",
       " [43, 462]]"
      ]
     },
     "execution_count": 66,
     "metadata": {},
     "output_type": "execute_result"
    }
   ],
   "source": [
    "possible_keys\n"
   ]
  },
  {
   "cell_type": "code",
   "execution_count": 24,
   "metadata": {
    "ExecuteTime": {
     "end_time": "2020-11-10T07:19:19.796446Z",
     "start_time": "2020-11-10T07:19:19.788449Z"
    }
   },
   "outputs": [],
   "source": [
    "letters = list('абвгдежзийклмнопрстуфхцчшщьыэюя')\n",
    "def check_index(text):\n",
    "    len_of_text = len(text)\n",
    "    letters_map = {i:0 for i in letters}\n",
    "    for letter in text:\n",
    "        if letter in letters_map:\n",
    "            letters_map[letter] += 1\n",
    "        else:\n",
    "            continue\n",
    "    arr = sum([letters_map[item] * (letters_map[item] - 1) for item in letters_map])\n",
    "    div = len_of_text * (len_of_text - 1)\n",
    "    result = arr / div\n",
    "    return result"
   ]
  },
  {
   "cell_type": "code",
   "execution_count": 27,
   "metadata": {
    "ExecuteTime": {
     "end_time": "2020-11-10T08:11:44.328098Z",
     "start_time": "2020-11-10T07:19:49.833974Z"
    }
   },
   "outputs": [
    {
     "name": "stdout",
     "output_type": "stream",
     "text": [
      "0.039072738639651924\n",
      "0.03926089412457515\n",
      "0.039099342546514745\n",
      "0.03935081541741407\n",
      "0.038310454104895184\n",
      "0.055081629734563126\n",
      "possible_key:  470 312\n",
      "0.055081629734563126\n"
     ]
    },
    {
     "ename": "KeyboardInterrupt",
     "evalue": "",
     "output_type": "error",
     "traceback": [
      "\u001b[1;31m---------------------------------------------------------------------------\u001b[0m",
      "\u001b[1;31mKeyboardInterrupt\u001b[0m                         Traceback (most recent call last)",
      "\u001b[1;32m<ipython-input-27-d078cee32478>\u001b[0m in \u001b[0;36m<module>\u001b[1;34m\u001b[0m\n\u001b[0;32m      2\u001b[0m     \u001b[0mdecrypted_text\u001b[0m\u001b[1;33m=\u001b[0m\u001b[1;33m[\u001b[0m\u001b[1;33m]\u001b[0m\u001b[1;33m\u001b[0m\u001b[0m\n\u001b[0;32m      3\u001b[0m     \u001b[1;32mfor\u001b[0m \u001b[0mj\u001b[0m \u001b[1;32min\u001b[0m \u001b[0mrange\u001b[0m\u001b[1;33m(\u001b[0m\u001b[1;36m0\u001b[0m\u001b[1;33m,\u001b[0m \u001b[0mlen\u001b[0m\u001b[1;33m(\u001b[0m\u001b[0mk\u001b[0m\u001b[1;33m)\u001b[0m\u001b[1;33m)\u001b[0m\u001b[1;33m:\u001b[0m\u001b[1;33m\u001b[0m\u001b[0m\n\u001b[1;32m----> 4\u001b[1;33m         \u001b[0mdecrypted_text\u001b[0m\u001b[1;33m.\u001b[0m\u001b[0mappend\u001b[0m\u001b[1;33m(\u001b[0m\u001b[0malph_of_bigrams\u001b[0m\u001b[1;33m[\u001b[0m\u001b[0mcheck_pair\u001b[0m\u001b[1;33m(\u001b[0m\u001b[0mpossible_keys\u001b[0m\u001b[1;33m[\u001b[0m\u001b[0mi\u001b[0m\u001b[1;33m]\u001b[0m\u001b[1;33m[\u001b[0m\u001b[1;36m0\u001b[0m\u001b[1;33m]\u001b[0m\u001b[1;33m,\u001b[0m \u001b[0mpossible_keys\u001b[0m\u001b[1;33m[\u001b[0m\u001b[0mi\u001b[0m\u001b[1;33m]\u001b[0m\u001b[1;33m[\u001b[0m\u001b[1;36m1\u001b[0m\u001b[1;33m]\u001b[0m\u001b[1;33m)\u001b[0m\u001b[1;33m[\u001b[0m\u001b[0mj\u001b[0m\u001b[1;33m]\u001b[0m\u001b[1;33m]\u001b[0m\u001b[1;33m)\u001b[0m\u001b[1;33m\u001b[0m\u001b[0m\n\u001b[0m\u001b[0;32m      5\u001b[0m         \u001b[0mdata\u001b[0m \u001b[1;33m=\u001b[0m \u001b[1;34m''\u001b[0m\u001b[1;33m.\u001b[0m\u001b[0mjoin\u001b[0m\u001b[1;33m(\u001b[0m\u001b[0mdecrypted_text\u001b[0m\u001b[1;33m)\u001b[0m\u001b[1;33m\u001b[0m\u001b[0m\n\u001b[0;32m      6\u001b[0m     \u001b[0mprint\u001b[0m\u001b[1;33m(\u001b[0m\u001b[0mcheck_index\u001b[0m\u001b[1;33m(\u001b[0m\u001b[0mdata\u001b[0m\u001b[1;33m)\u001b[0m\u001b[1;33m)\u001b[0m\u001b[1;33m\u001b[0m\u001b[0m\n",
      "\u001b[1;32m<ipython-input-17-c9213a65c68c>\u001b[0m in \u001b[0;36mcheck_pair\u001b[1;34m(a, b)\u001b[0m\n\u001b[0;32m      5\u001b[0m         \u001b[0mvalues_Yi\u001b[0m\u001b[1;33m.\u001b[0m\u001b[0mappend\u001b[0m\u001b[1;33m(\u001b[0m\u001b[0mint\u001b[0m\u001b[1;33m(\u001b[0m\u001b[0mour_alphabet\u001b[0m\u001b[1;33m[\u001b[0m\u001b[0mk\u001b[0m\u001b[1;33m[\u001b[0m\u001b[0mi\u001b[0m\u001b[1;33m]\u001b[0m\u001b[1;33m[\u001b[0m\u001b[1;36m0\u001b[0m\u001b[1;33m]\u001b[0m\u001b[1;33m]\u001b[0m\u001b[1;33m*\u001b[0m\u001b[0mm\u001b[0m\u001b[1;33m+\u001b[0m\u001b[0mour_alphabet\u001b[0m\u001b[1;33m[\u001b[0m\u001b[0mk\u001b[0m\u001b[1;33m[\u001b[0m\u001b[0mi\u001b[0m\u001b[1;33m]\u001b[0m\u001b[1;33m[\u001b[0m\u001b[1;36m1\u001b[0m\u001b[1;33m]\u001b[0m\u001b[1;33m]\u001b[0m\u001b[1;33m)\u001b[0m\u001b[1;33m)\u001b[0m\u001b[1;33m\u001b[0m\u001b[0m\n\u001b[0;32m      6\u001b[0m     \u001b[1;32mfor\u001b[0m \u001b[0mj\u001b[0m \u001b[1;32min\u001b[0m \u001b[0mvalues_Yi\u001b[0m\u001b[1;33m:\u001b[0m\u001b[1;33m\u001b[0m\u001b[0m\n\u001b[1;32m----> 7\u001b[1;33m         \u001b[0mvalues_Xi\u001b[0m\u001b[1;33m.\u001b[0m\u001b[0mappend\u001b[0m\u001b[1;33m(\u001b[0m\u001b[0mint\u001b[0m\u001b[1;33m(\u001b[0m\u001b[0mfind_inv\u001b[0m\u001b[1;33m(\u001b[0m\u001b[0ma\u001b[0m\u001b[1;33m,\u001b[0m \u001b[0msqrt_m\u001b[0m\u001b[1;33m)\u001b[0m\u001b[1;33m*\u001b[0m\u001b[1;33m(\u001b[0m\u001b[0mj\u001b[0m \u001b[1;33m-\u001b[0m \u001b[0mb\u001b[0m\u001b[1;33m)\u001b[0m \u001b[1;33m%\u001b[0m \u001b[0msqrt_m\u001b[0m\u001b[1;33m)\u001b[0m\u001b[1;33m)\u001b[0m    \u001b[1;31m# Xi= a^(-1)*(Yi-b) mod sqrt_m\u001b[0m\u001b[1;33m\u001b[0m\u001b[0m\n\u001b[0m\u001b[0;32m      8\u001b[0m     \u001b[1;32mreturn\u001b[0m \u001b[0mvalues_Xi\u001b[0m\u001b[1;33m\u001b[0m\u001b[0m\n",
      "\u001b[1;32m<ipython-input-12-4c43b00709d3>\u001b[0m in \u001b[0;36mfind_inv\u001b[1;34m(b, n)\u001b[0m\n\u001b[0;32m      2\u001b[0m \u001b[1;32mdef\u001b[0m \u001b[0mfind_inv\u001b[0m\u001b[1;33m(\u001b[0m\u001b[0mb\u001b[0m\u001b[1;33m,\u001b[0m \u001b[0mn\u001b[0m\u001b[1;33m)\u001b[0m\u001b[1;33m:\u001b[0m     \u001b[1;31m#_ = 0 => bx mod n + 0 = g\u001b[0m\u001b[1;33m\u001b[0m\u001b[0m\n\u001b[0;32m      3\u001b[0m                         \u001b[1;31m#если g = 1, обратный к b\u001b[0m\u001b[1;33m\u001b[0m\u001b[1;33m\u001b[0m\u001b[0m\n\u001b[1;32m----> 4\u001b[1;33m     \u001b[0mg\u001b[0m\u001b[1;33m,\u001b[0m \u001b[0mx\u001b[0m\u001b[1;33m,\u001b[0m \u001b[0m_\u001b[0m \u001b[1;33m=\u001b[0m \u001b[0mgcd_evkl\u001b[0m\u001b[1;33m(\u001b[0m\u001b[0mb\u001b[0m\u001b[1;33m,\u001b[0m \u001b[0mn\u001b[0m\u001b[1;33m)\u001b[0m\u001b[1;33m\u001b[0m\u001b[0m\n\u001b[0m\u001b[0;32m      5\u001b[0m     \u001b[1;32mif\u001b[0m \u001b[0mg\u001b[0m \u001b[1;33m==\u001b[0m \u001b[1;36m1\u001b[0m\u001b[1;33m:\u001b[0m\u001b[1;33m\u001b[0m\u001b[0m\n\u001b[0;32m      6\u001b[0m         \u001b[1;32mreturn\u001b[0m \u001b[0mx\u001b[0m \u001b[1;33m%\u001b[0m \u001b[0mn\u001b[0m\u001b[1;33m\u001b[0m\u001b[0m\n",
      "\u001b[1;32m<ipython-input-10-afde41045d56>\u001b[0m in \u001b[0;36mgcd_evkl\u001b[1;34m(a, b)\u001b[0m\n\u001b[0;32m      5\u001b[0m         \u001b[0mg\u001b[0m\u001b[1;33m,\u001b[0m \u001b[0mx\u001b[0m\u001b[1;33m,\u001b[0m \u001b[0my\u001b[0m \u001b[1;33m=\u001b[0m \u001b[0mgcd_evkl\u001b[0m\u001b[1;33m(\u001b[0m\u001b[0mb\u001b[0m \u001b[1;33m%\u001b[0m \u001b[0ma\u001b[0m\u001b[1;33m,\u001b[0m \u001b[0ma\u001b[0m\u001b[1;33m)\u001b[0m    \u001b[1;31m#g - наибольший общий делитель;\u001b[0m\u001b[1;33m\u001b[0m\u001b[0m\n\u001b[0;32m      6\u001b[0m                                         \u001b[1;31m#x,y - такие, что ax+by=d\u001b[0m\u001b[1;33m\u001b[0m\u001b[1;33m\u001b[0m\u001b[0m\n\u001b[1;32m----> 7\u001b[1;33m         \u001b[1;32mreturn\u001b[0m \u001b[1;33m(\u001b[0m\u001b[0mg\u001b[0m\u001b[1;33m,\u001b[0m \u001b[0my\u001b[0m \u001b[1;33m-\u001b[0m \u001b[1;33m(\u001b[0m\u001b[0mb\u001b[0m \u001b[1;33m//\u001b[0m \u001b[0ma\u001b[0m\u001b[1;33m)\u001b[0m \u001b[1;33m*\u001b[0m \u001b[0mx\u001b[0m\u001b[1;33m,\u001b[0m \u001b[0mx\u001b[0m\u001b[1;33m)\u001b[0m\u001b[1;33m\u001b[0m\u001b[0m\n\u001b[0m",
      "\u001b[1;31mKeyboardInterrupt\u001b[0m: "
     ]
    }
   ],
   "source": [
    "for i in range(0,len(possible_keys)):\n",
    "    decrypted_text=[]\n",
    "    for j in range(0, len(k)):\n",
    "        decrypted_text.append(alph_of_bigrams[check_pair(possible_keys[i][0], possible_keys[i][1])[j]])\n",
    "        data = ''.join(decrypted_text)\n",
    "    print(check_index(data))\n",
    "    if check_index(data) >= 0.050:\n",
    "        print('possible_key: ',possible_keys[i][0], possible_keys[i][1])\n",
    "        print(check_index(data))"
   ]
  },
  {
   "cell_type": "code",
   "execution_count": null,
   "metadata": {},
   "outputs": [],
   "source": []
  },
  {
   "cell_type": "code",
   "execution_count": null,
   "metadata": {},
   "outputs": [],
   "source": []
  },
  {
   "cell_type": "code",
   "execution_count": null,
   "metadata": {},
   "outputs": [],
   "source": []
  }
 ],
 "metadata": {
  "kernelspec": {
   "display_name": "Python 3",
   "language": "python",
   "name": "python3"
  },
  "language_info": {
   "codemirror_mode": {
    "name": "ipython",
    "version": 3
   },
   "file_extension": ".py",
   "mimetype": "text/x-python",
   "name": "python",
   "nbconvert_exporter": "python",
   "pygments_lexer": "ipython3",
   "version": "3.7.0"
  }
 },
 "nbformat": 4,
 "nbformat_minor": 4
}
