{
 "cells": [
  {
   "cell_type": "code",
   "execution_count": 1,
   "metadata": {},
   "outputs": [],
   "source": [
    "#functions here\n",
    "def euclid_gcd(a, b):\n",
    "    if a == 0:\n",
    "        x, y = (0, 1)\n",
    "        return (b, x, y)\n",
    "    d, x1, y1 = euclid_gcd(b % a, a)\n",
    "    x = y1 - (b // a) * x1\n",
    "    y = x1\n",
    "    return (d, x, y)\n",
    "\n",
    "def inverse(a, n):\n",
    "    if (a < 0):\n",
    "        a += n\n",
    "    d, x, y = euclid_gcd(a, n)\n",
    "    if (d == 1):\n",
    "        return x\n",
    "\n",
    "def solve_equation(a, b, n):\n",
    "    x = list()\n",
    "    d = euclid_gcd(a, n)[0] % n\n",
    "    \n",
    "    if d == 1: \n",
    "        a_inv = inverse(a, n)\n",
    "        x.append(a_inv * b % n) \n",
    "        return x\n",
    "    \n",
    "    if b % d == 0:\n",
    "        a1 = a // d\n",
    "        b1 = b // d\n",
    "        n1 = n // d\n",
    "        x0 = solve_equation(a1, b1, n1)[0]\n",
    "        for i in range(0, d):\n",
    "            x.append(x0 + i * n1)\n",
    "        return x\n",
    "    return -1"
   ]
  },
  {
   "cell_type": "code",
   "execution_count": 2,
   "metadata": {},
   "outputs": [],
   "source": [
    "with open('Var14.txt', 'rb') as f:\n",
    "    text = f.read().decode('utf-8').strip()\n",
    "text = text.replace('\\n', '')\n",
    "\n",
    "log = open('Output.txt', 'w')"
   ]
  },
  {
   "cell_type": "code",
   "execution_count": 3,
   "metadata": {},
   "outputs": [],
   "source": [
    "alphabet = 'абвгдежзийклмнопрстуфхцчшщьыэюя'"
   ]
  },
  {
   "cell_type": "code",
   "execution_count": 4,
   "metadata": {},
   "outputs": [],
   "source": [
    "bigr_count = 0"
   ]
  },
  {
   "cell_type": "code",
   "execution_count": 5,
   "metadata": {},
   "outputs": [],
   "source": [
    "bigr_dict = dict()"
   ]
  },
  {
   "cell_type": "code",
   "execution_count": 6,
   "metadata": {},
   "outputs": [],
   "source": [
    "for x in alphabet:\n",
    "    for y in alphabet:\n",
    "        key = x + y\n",
    "        bigr_dict.update({key : 0})"
   ]
  },
  {
   "cell_type": "code",
   "execution_count": 7,
   "metadata": {},
   "outputs": [],
   "source": [
    "temp = text\n",
    "text_present = True"
   ]
  },
  {
   "cell_type": "code",
   "execution_count": 8,
   "metadata": {
    "scrolled": true
   },
   "outputs": [],
   "source": [
    "while text_present:\n",
    "    bigramm = temp[:2]\n",
    "    temp = temp[1:]\n",
    "    \n",
    "    if len(bigramm) < 2:\n",
    "        text_present = False\n",
    "    else:\n",
    "        bigr_count += 1\n",
    "        bigr_dict[bigramm] += 1"
   ]
  },
  {
   "cell_type": "code",
   "execution_count": 9,
   "metadata": {},
   "outputs": [],
   "source": [
    "for key, val in bigr_dict.items():\n",
    "    if val != 0:\n",
    "        freq = val / bigr_count\n",
    "        log.write('{} | {:6d} | {:0.5f}\\n'.format(key, val, freq))"
   ]
  },
  {
   "cell_type": "code",
   "execution_count": 10,
   "metadata": {},
   "outputs": [],
   "source": [
    "dict_top = dict(sorted(bigr_dict.items(),\n",
    "                    key = lambda item: item[1],\n",
    "                    reverse=True)[:5])"
   ]
  },
  {
   "cell_type": "code",
   "execution_count": 11,
   "metadata": {},
   "outputs": [],
   "source": [
    "def get_bigr_num(bigram, alphabet):\n",
    "    x1 = alphabet.index(bigram[0])\n",
    "    x2 = alphabet.index(bigram[1])\n",
    "    return len(alphabet) * x1 + x2\n",
    "\n",
    "def get_bigr_text(num, alphabet):\n",
    "    x1 = num // len(alphabet)\n",
    "    x2 = num % len(alphabet)\n",
    "    return alphabet[x1] + alphabet[x2]\n",
    "\n",
    "def decrypt_text(A, B, text, alphabet):\n",
    "    m = len(alphabet)\n",
    "    decrypted = ''\n",
    "    \n",
    "    temp = text\n",
    "    text_present = True\n",
    "    while text_present:\n",
    "        bigramm = temp[:2]\n",
    "        temp = temp[2:]\n",
    "        if len(bigramm) < 2:\n",
    "            text_present = False\n",
    "        else:\n",
    "            Y = get_bigr_num(bigramm, alphabet)\n",
    "            A_inv = inverse(A, pow(m, 2))\n",
    "            X = (A_inv * (Y - B)) % pow(m, 2)\n",
    "            \n",
    "            decrypted += get_bigr_text(X, alphabet)\n",
    "         \n",
    "    return decrypted\n",
    "\n",
    "def detect_lang(A, B, decrypted, alphabet):\n",
    "    freq_dict = { x : 0 for x in alphabet }\n",
    "    for char in decrypted:\n",
    "        freq_dict[char] += 1\n",
    "    \n",
    "    top_lang = ['о', 'а', 'е', 'и', 'н', 'т']\n",
    "    top_text = list(dict(sorted(freq_dict.items(),\n",
    "                    key = lambda item: item[1],\n",
    "                    reverse=True)[:6]).keys())\n",
    "    top_chars = ''.join(x for x in top_text)\n",
    "    if all( x in top_text for x in top_lang ):\n",
    "        log.write('\\nDecrypted text with A:{:3d} B:{:3d}. Top chars matching: {}.\\n\\n'.format(A, B, top_chars))\n",
    "        log.write(decrypted)\n",
    "        log.write('\\n\\n')\n",
    "    else:\n",
    "        log.write('Rejected text candidate A:{:3d} B:{:3d}. Top chars are: {}.\\n'.format(A, B, top_chars))\n",
    "    "
   ]
  },
  {
   "cell_type": "code",
   "execution_count": 12,
   "metadata": {},
   "outputs": [
    {
     "data": {
      "text/plain": [
       "43"
      ]
     },
     "execution_count": 12,
     "metadata": {},
     "output_type": "execute_result"
    }
   ],
   "source": [
    "top_text = list(dict_top.keys())\n",
    "top_text_str = ''.join(x + ' ' for x in top_text)\n",
    "log.write('Top bigramms in text are: {} \\n'.format(top_text_str))"
   ]
  },
  {
   "cell_type": "code",
   "execution_count": 13,
   "metadata": {},
   "outputs": [],
   "source": [
    "top_lang = ['ст', 'но', 'то', 'на', 'ен']"
   ]
  },
  {
   "cell_type": "code",
   "execution_count": 14,
   "metadata": {
    "scrolled": true
   },
   "outputs": [],
   "source": [
    "for clear1 in range(0, 5):\n",
    "    for encr1 in range(0, 5):\n",
    "        for clear2 in range(0, 5):\n",
    "            for encr2 in range(0, 5):\n",
    "                if clear1 == clear2 or encr1 == encr2:\n",
    "                    continue\n",
    "                else:\n",
    "                    lang1 = get_bigr_num(top_lang[clear1], alphabet) # X*\n",
    "                    text1 = get_bigr_num(top_text[encr1], alphabet)  # Y*\n",
    "                    \n",
    "                    lang2 = get_bigr_num(top_lang[clear2], alphabet)# X**\n",
    "                    text2 = get_bigr_num(top_text[encr2], alphabet) # Y**\n",
    "                    \n",
    "                    #(lang1 - lang2) * a = (text1 - text2) mod m^2\n",
    "                    # A*x = B mod m^2\n",
    "                    #B = text1 - A*lang1 mod m^2\n",
    "                    \n",
    "                    m = len(alphabet)\n",
    "                    A = lang1 - lang2\n",
    "                    B = text1 - text2\n",
    "                    \n",
    "                    results = solve_equation(A, B, pow(m, 2))\n",
    "                    if type(results) == list:\n",
    "                        for i in range(0, len(results)):\n",
    "                            _A = results[i]\n",
    "                            _B = (text1 - _A * lang1) % pow(m, 2)\n",
    "                            decrypted = decrypt_text(_A, _B, text, alphabet)\n",
    "                            detect_lang(_A, _B, decrypted, alphabet)"
   ]
  },
  {
   "cell_type": "code",
   "execution_count": null,
   "metadata": {},
   "outputs": [],
   "source": []
  }
 ],
 "metadata": {
  "kernelspec": {
   "display_name": "Python 3",
   "language": "python",
   "name": "python3"
  },
  "language_info": {
   "codemirror_mode": {
    "name": "ipython",
    "version": 3
   },
   "file_extension": ".py",
   "mimetype": "text/x-python",
   "name": "python",
   "nbconvert_exporter": "python",
   "pygments_lexer": "ipython3",
   "version": "3.8.3"
  }
 },
 "nbformat": 4,
 "nbformat_minor": 4
}
